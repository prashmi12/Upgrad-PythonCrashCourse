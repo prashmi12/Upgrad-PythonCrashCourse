{
 "cells": [
  {
   "cell_type": "markdown",
   "id": "5bb11711",
   "metadata": {},
   "source": [
    "# Print Fabonacci series of input n"
   ]
  },
  {
   "cell_type": "code",
   "execution_count": 1,
   "id": "f7b4b1bb",
   "metadata": {},
   "outputs": [],
   "source": [
    "def fabonacci(n):\n",
    "     if n < 0:\n",
    "        print(\"Please provide a positive number!\")\n",
    " \n",
    "     elif n == 0:\n",
    "        return 0\n",
    " \n",
    "     elif n == 1 or n == 2:\n",
    "        return 1\n",
    " \n",
    "     else:\n",
    "        return fabonacci(n-1) + fabonacci(n-2)"
   ]
  },
  {
   "cell_type": "code",
   "execution_count": 12,
   "id": "f757afc2",
   "metadata": {},
   "outputs": [
    {
     "name": "stdout",
     "output_type": "stream",
     "text": [
      "Enter a number: 9\n",
      "Fabonacci series of 9 is :  34\n"
     ]
    }
   ],
   "source": [
    "n = int(input(\"Enter a number: \"))\n",
    "print(f\"Fabonacci series of {n} is : \",fabonacci(n))"
   ]
  },
  {
   "cell_type": "markdown",
   "id": "144db3dd",
   "metadata": {},
   "source": [
    "# Check if the string is Palindrome or not"
   ]
  },
  {
   "cell_type": "code",
   "execution_count": 14,
   "id": "cedd1ca2",
   "metadata": {},
   "outputs": [],
   "source": [
    "def isPalindrome(s):\n",
    "    s = s.lower()\n",
    "    l = len(s)\n",
    " \n",
    "    if l < 2:\n",
    "        return True\n",
    " \n",
    "    elif s[0] == s[l - 1]:\n",
    "        return isPalindrome(s[1: l - 1])\n",
    " \n",
    "    else:\n",
    "        return False"
   ]
  },
  {
   "cell_type": "code",
   "execution_count": 26,
   "id": "f8e3f794",
   "metadata": {},
   "outputs": [
    {
     "name": "stdout",
     "output_type": "stream",
     "text": [
      "Enter any word: wow\n"
     ]
    }
   ],
   "source": [
    "s = input(\"Enter any word: \")"
   ]
  },
  {
   "cell_type": "code",
   "execution_count": 27,
   "id": "887a10d1",
   "metadata": {},
   "outputs": [
    {
     "name": "stdout",
     "output_type": "stream",
     "text": [
      "Word 'wow' is a Palindrome\n"
     ]
    }
   ],
   "source": [
    "str = isPalindrome(s)\n",
    " \n",
    "if str:\n",
    "    print(f\"Word '{s}' is a Palindrome\")\n",
    " \n",
    "else:\n",
    "    print(f\"Word '{s}' is not a Palindrome\")"
   ]
  },
  {
   "cell_type": "code",
   "execution_count": null,
   "id": "112bea92",
   "metadata": {},
   "outputs": [],
   "source": []
  }
 ],
 "metadata": {
  "kernelspec": {
   "display_name": "Python 3 (ipykernel)",
   "language": "python",
   "name": "python3"
  },
  "language_info": {
   "codemirror_mode": {
    "name": "ipython",
    "version": 3
   },
   "file_extension": ".py",
   "mimetype": "text/x-python",
   "name": "python",
   "nbconvert_exporter": "python",
   "pygments_lexer": "ipython3",
   "version": "3.9.13"
  }
 },
 "nbformat": 4,
 "nbformat_minor": 5
}
